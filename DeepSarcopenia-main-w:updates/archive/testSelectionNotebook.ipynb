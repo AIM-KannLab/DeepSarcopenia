{
 "cells": [
  {
   "cell_type": "code",
   "execution_count": 1,
   "id": "6c76ec7b",
   "metadata": {},
   "outputs": [],
   "source": [
    "import argparse\n",
    "import warnings\n",
    "import os \n",
    "from scripts.infer_selection import test"
   ]
  },
  {
   "cell_type": "code",
   "execution_count": 2,
   "id": "cdfdf665",
   "metadata": {},
   "outputs": [],
   "source": [
    "os.environ[\"TF_CPP_MIN_LOG_LEVEL\"] = '3'\n",
    "warnings.filterwarnings(\"ignore\")   \n",
    "\n",
    "#if  __name__ == '__main__':\n",
    "\n",
    " #   parser = argparse.ArgumentParser(description=' L3 top slice is selected by AI algorithm.') \n",
    "    \n",
    "  #  parser.add_argument('--image_dir','-i', type = str, default = '../data/test/input/', \n",
    "   #                     help = 'Directory path of abdominal CT scan')\n",
    "    #parser.add_argument('--model_weight_path','-m', type = str, default = '../model/test/L3_Top_Selection_Model_Weight.h5',\n",
    "     #                   help = 'File path of well-trained model weight')\n",
    "    #parser.add_argument('--csv_write_path','-c', type = str, default = '../data/test/output_csv/L3_Top_Slice_Prediction.csv',\n",
    "     #                   help = 'File path of well-trained model weight')\n",
    "    \n",
    "  #  args = parser.parse_args()\n",
    "  #  model = test(**vars(args))"
   ]
  },
  {
   "cell_type": "code",
   "execution_count": 2,
   "id": "265692ba",
   "metadata": {},
   "outputs": [
    {
     "name": "stdout",
     "output_type": "stream",
     "text": [
      "Metal device set to: Apple M1 Pro\n"
     ]
    },
    {
     "name": "stderr",
     "output_type": "stream",
     "text": [
      "2022-11-04 20:18:41.792455: I tensorflow/core/common_runtime/pluggable_device/pluggable_device_factory.cc:305] Could not identify NUMA node of platform GPU ID 0, defaulting to 0. Your kernel may not have been built with NUMA support.\n",
      "2022-11-04 20:18:41.792594: I tensorflow/core/common_runtime/pluggable_device/pluggable_device_factory.cc:271] Created TensorFlow device (/job:localhost/replica:0/task:0/device:GPU:0 with 0 MB memory) -> physical PluggableDevice (device: 0, name: METAL, pci bus id: <undefined>)\n"
     ]
    },
    {
     "name": "stdout",
     "output_type": "stream",
     "text": [
      "\n",
      " \n",
      " \n",
      " loaded: ../model/test/C3_Top_Selection_Model_Weight.hdf5\n"
     ]
    },
    {
     "name": "stderr",
     "output_type": "stream",
     "text": [
      "2022-11-04 20:18:45.379492: W tensorflow/core/platform/profile_utils/cpu_utils.cc:128] Failed to get CPU frequency: 0 Hz\n",
      "2022-11-04 20:18:45.570074: I tensorflow/core/grappler/optimizers/custom_graph_optimizer_registry.cc:113] Plugin optimizer for device_type GPU is enabled.\n"
     ]
    },
    {
     "name": "stdout",
     "output_type": "stream",
     "text": [
      "11/11 [==============================] - 1s 40ms/step\n",
      "0  th image, path:  ../data/test/input/mdacc_HNSCC-01-0005_CT-SIM-01-19-1998-_raw_raw_raw_xx.nrrd \n",
      " C3_Predict_slice: 268 \n",
      "\n"
     ]
    },
    {
     "name": "stderr",
     "output_type": "stream",
     "text": [
      "/Users/yashravipati/Desktop/aim_copy4/aim_copy3/Body_composition_C3_code/BodyComposition_C3-main/src/scripts/infer_selection.py:60: FutureWarning: The frame.append method is deprecated and will be removed from pandas in a future version. Use pandas.concat instead.\n",
      "  df_prediction = df_prediction.append(df_inter)\n"
     ]
    },
    {
     "name": "stdout",
     "output_type": "stream",
     "text": [
      "6/6 [==============================] - 0s 77ms/step\n",
      "1  th image, path:  ../data/test/input/mdacc_HNSCC-01-0006_CT-SIM-06-09-1997-_raw_raw_raw_xx.nrrd \n",
      " C3_Predict_slice: 128 \n",
      "\n"
     ]
    },
    {
     "name": "stderr",
     "output_type": "stream",
     "text": [
      "/Users/yashravipati/Desktop/aim_copy4/aim_copy3/Body_composition_C3_code/BodyComposition_C3-main/src/scripts/infer_selection.py:60: FutureWarning: The frame.append method is deprecated and will be removed from pandas in a future version. Use pandas.concat instead.\n",
      "  df_prediction = df_prediction.append(df_inter)\n"
     ]
    },
    {
     "name": "stdout",
     "output_type": "stream",
     "text": [
      "6/6 [==============================] - 0s 77ms/step\n",
      "2  th image, path:  ../data/test/input/mdacc_HNSCC-01-0095_CT-SIM-09-22-1999-_raw_raw_raw_xx.nrrd \n",
      " C3_Predict_slice: 85 \n",
      "\n"
     ]
    },
    {
     "name": "stderr",
     "output_type": "stream",
     "text": [
      "/Users/yashravipati/Desktop/aim_copy4/aim_copy3/Body_composition_C3_code/BodyComposition_C3-main/src/scripts/infer_selection.py:60: FutureWarning: The frame.append method is deprecated and will be removed from pandas in a future version. Use pandas.concat instead.\n",
      "  df_prediction = df_prediction.append(df_inter)\n"
     ]
    },
    {
     "name": "stdout",
     "output_type": "stream",
     "text": [
      "6/6 [==============================] - 1s 125ms/step\n",
      "3  th image, path:  ../data/test/input/mdacc_HNSCC-01-0096_CT-SIM-10-30-1999-_raw_raw_raw_xx.nrrd \n",
      " C3_Predict_slice: 78 \n",
      "\n"
     ]
    },
    {
     "name": "stderr",
     "output_type": "stream",
     "text": [
      "/Users/yashravipati/Desktop/aim_copy4/aim_copy3/Body_composition_C3_code/BodyComposition_C3-main/src/scripts/infer_selection.py:60: FutureWarning: The frame.append method is deprecated and will be removed from pandas in a future version. Use pandas.concat instead.\n",
      "  df_prediction = df_prediction.append(df_inter)\n"
     ]
    },
    {
     "name": "stdout",
     "output_type": "stream",
     "text": [
      "5/5 [==============================] - 0s 26ms/step\n",
      "4  th image, path:  ../data/test/input/mdacc_HNSCC-01-0122_CT-SIM-04-18-2000-_raw_raw_raw_xx.nrrd \n",
      " C3_Predict_slice: 79 \n",
      "\n"
     ]
    },
    {
     "name": "stderr",
     "output_type": "stream",
     "text": [
      "/Users/yashravipati/Desktop/aim_copy4/aim_copy3/Body_composition_C3_code/BodyComposition_C3-main/src/scripts/infer_selection.py:60: FutureWarning: The frame.append method is deprecated and will be removed from pandas in a future version. Use pandas.concat instead.\n",
      "  df_prediction = df_prediction.append(df_inter)\n"
     ]
    },
    {
     "name": "stdout",
     "output_type": "stream",
     "text": [
      "5/5 [==============================] - 0s 58ms/step\n",
      "5  th image, path:  ../data/test/input/mdacc_HNSCC-01-0123_CT-SIM-03-24-2000-_raw_raw_raw_xx.nrrd \n",
      " C3_Predict_slice: 72 \n",
      "\n"
     ]
    },
    {
     "name": "stderr",
     "output_type": "stream",
     "text": [
      "/Users/yashravipati/Desktop/aim_copy4/aim_copy3/Body_composition_C3_code/BodyComposition_C3-main/src/scripts/infer_selection.py:60: FutureWarning: The frame.append method is deprecated and will be removed from pandas in a future version. Use pandas.concat instead.\n",
      "  df_prediction = df_prediction.append(df_inter)\n"
     ]
    },
    {
     "name": "stdout",
     "output_type": "stream",
     "text": [
      "4/4 [==============================] - 0s 144ms/step\n",
      "6  th image, path:  ../data/test/input/mdacc_HNSCC-01-0124_CT-SIM-05-23-2000-_raw_raw_raw_xx.nrrd \n",
      " C3_Predict_slice: 55 \n",
      "\n"
     ]
    },
    {
     "name": "stderr",
     "output_type": "stream",
     "text": [
      "/Users/yashravipati/Desktop/aim_copy4/aim_copy3/Body_composition_C3_code/BodyComposition_C3-main/src/scripts/infer_selection.py:60: FutureWarning: The frame.append method is deprecated and will be removed from pandas in a future version. Use pandas.concat instead.\n",
      "  df_prediction = df_prediction.append(df_inter)\n"
     ]
    },
    {
     "name": "stdout",
     "output_type": "stream",
     "text": [
      "9/9 [==============================] - 0s 59ms/step\n",
      "7  th image, path:  ../data/test/input/mdacc_HNSCC-01-0581_CT-SIM-11-13-2011-_raw_raw_raw_xx.nrrd \n",
      " C3_Predict_slice: 158 \n",
      "\n"
     ]
    },
    {
     "name": "stderr",
     "output_type": "stream",
     "text": [
      "/Users/yashravipati/Desktop/aim_copy4/aim_copy3/Body_composition_C3_code/BodyComposition_C3-main/src/scripts/infer_selection.py:60: FutureWarning: The frame.append method is deprecated and will be removed from pandas in a future version. Use pandas.concat instead.\n",
      "  df_prediction = df_prediction.append(df_inter)\n"
     ]
    },
    {
     "name": "stdout",
     "output_type": "stream",
     "text": [
      "3/3 [==============================] - 0s 95ms/step\n",
      "8  th image, path:  ../data/test/input/mdacc_HNSCC-01-0582_CT-SIM-11-13-2011-_raw_raw_raw_xx.nrrd \n",
      " C3_Predict_slice: 55 \n",
      "\n"
     ]
    },
    {
     "name": "stderr",
     "output_type": "stream",
     "text": [
      "/Users/yashravipati/Desktop/aim_copy4/aim_copy3/Body_composition_C3_code/BodyComposition_C3-main/src/scripts/infer_selection.py:60: FutureWarning: The frame.append method is deprecated and will be removed from pandas in a future version. Use pandas.concat instead.\n",
      "  df_prediction = df_prediction.append(df_inter)\n"
     ]
    },
    {
     "name": "stdout",
     "output_type": "stream",
     "text": [
      "9/9 [==============================] - 0s 36ms/step\n",
      "9  th image, path:  ../data/test/input/mdacc_HNSCC-01-0583_CT-SIM-11-13-2011-_raw_raw_raw_xx.nrrd \n",
      " C3_Predict_slice: 147 \n",
      "\n"
     ]
    },
    {
     "name": "stderr",
     "output_type": "stream",
     "text": [
      "/Users/yashravipati/Desktop/aim_copy4/aim_copy3/Body_composition_C3_code/BodyComposition_C3-main/src/scripts/infer_selection.py:60: FutureWarning: The frame.append method is deprecated and will be removed from pandas in a future version. Use pandas.concat instead.\n",
      "  df_prediction = df_prediction.append(df_inter)\n"
     ]
    },
    {
     "name": "stdout",
     "output_type": "stream",
     "text": [
      "10/10 [==============================] - 0s 42ms/step\n",
      "10  th image, path:  ../data/test/input/mdacc_HNSCC-01-0584_CT-SIM-11-13-2011-_raw_raw_raw_xx.nrrd \n",
      " C3_Predict_slice: 154 \n",
      "\n"
     ]
    },
    {
     "name": "stderr",
     "output_type": "stream",
     "text": [
      "/Users/yashravipati/Desktop/aim_copy4/aim_copy3/Body_composition_C3_code/BodyComposition_C3-main/src/scripts/infer_selection.py:60: FutureWarning: The frame.append method is deprecated and will be removed from pandas in a future version. Use pandas.concat instead.\n",
      "  df_prediction = df_prediction.append(df_inter)\n"
     ]
    },
    {
     "name": "stdout",
     "output_type": "stream",
     "text": [
      "9/9 [==============================] - 0s 49ms/step\n",
      "11  th image, path:  ../data/test/input/mdacc_HNSCC-01-0585_CT-SIM-11-13-2011-_raw_raw_raw_xx.nrrd \n",
      " C3_Predict_slice: 139 \n",
      "\n"
     ]
    },
    {
     "name": "stderr",
     "output_type": "stream",
     "text": [
      "/Users/yashravipati/Desktop/aim_copy4/aim_copy3/Body_composition_C3_code/BodyComposition_C3-main/src/scripts/infer_selection.py:60: FutureWarning: The frame.append method is deprecated and will be removed from pandas in a future version. Use pandas.concat instead.\n",
      "  df_prediction = df_prediction.append(df_inter)\n"
     ]
    },
    {
     "name": "stdout",
     "output_type": "stream",
     "text": [
      "7/7 [==============================] - 0s 24ms/step\n",
      "12  th image, path:  ../data/test/input/mdacc_HNSCC-01-0586_CT-SIM-11-13-2011-_raw_raw_raw_xx.nrrd \n",
      " C3_Predict_slice: 122 \n",
      "\n"
     ]
    },
    {
     "name": "stderr",
     "output_type": "stream",
     "text": [
      "/Users/yashravipati/Desktop/aim_copy4/aim_copy3/Body_composition_C3_code/BodyComposition_C3-main/src/scripts/infer_selection.py:60: FutureWarning: The frame.append method is deprecated and will be removed from pandas in a future version. Use pandas.concat instead.\n",
      "  df_prediction = df_prediction.append(df_inter)\n"
     ]
    },
    {
     "name": "stdout",
     "output_type": "stream",
     "text": [
      "10/10 [==============================] - 0s 43ms/step\n",
      "13  th image, path:  ../data/test/input/mdacc_HNSCC-01-0587_CT-SIM-11-13-2011-_raw_raw_raw_xx.nrrd \n",
      " C3_Predict_slice: 164 \n",
      "\n"
     ]
    },
    {
     "name": "stderr",
     "output_type": "stream",
     "text": [
      "/Users/yashravipati/Desktop/aim_copy4/aim_copy3/Body_composition_C3_code/BodyComposition_C3-main/src/scripts/infer_selection.py:60: FutureWarning: The frame.append method is deprecated and will be removed from pandas in a future version. Use pandas.concat instead.\n",
      "  df_prediction = df_prediction.append(df_inter)\n"
     ]
    },
    {
     "name": "stdout",
     "output_type": "stream",
     "text": [
      "8/8 [==============================] - 0s 27ms/step\n",
      "14  th image, path:  ../data/test/input/mdacc_HNSCC-01-0588_CT-SIM-11-13-2011-_raw_raw_raw_xx.nrrd \n",
      " C3_Predict_slice: 119 \n",
      "\n"
     ]
    },
    {
     "name": "stderr",
     "output_type": "stream",
     "text": [
      "/Users/yashravipati/Desktop/aim_copy4/aim_copy3/Body_composition_C3_code/BodyComposition_C3-main/src/scripts/infer_selection.py:60: FutureWarning: The frame.append method is deprecated and will be removed from pandas in a future version. Use pandas.concat instead.\n",
      "  df_prediction = df_prediction.append(df_inter)\n"
     ]
    },
    {
     "name": "stdout",
     "output_type": "stream",
     "text": [
      "4/4 [==============================] - 0s 25ms/step\n",
      "15  th image, path:  ../data/test/input/mdacc_HNSCC-01-0589_CT-SIM-11-13-2011-_raw_raw_raw_xx.nrrd \n",
      " C3_Predict_slice: 70 \n",
      "\n"
     ]
    },
    {
     "name": "stderr",
     "output_type": "stream",
     "text": [
      "/Users/yashravipati/Desktop/aim_copy4/aim_copy3/Body_composition_C3_code/BodyComposition_C3-main/src/scripts/infer_selection.py:60: FutureWarning: The frame.append method is deprecated and will be removed from pandas in a future version. Use pandas.concat instead.\n",
      "  df_prediction = df_prediction.append(df_inter)\n"
     ]
    },
    {
     "name": "stdout",
     "output_type": "stream",
     "text": [
      "10/10 [==============================] - 0s 48ms/step\n",
      "16  th image, path:  ../data/test/input/mdacc_HNSCC-01-0590_CT-SIM-11-13-2011-_raw_raw_raw_xx.nrrd \n",
      " C3_Predict_slice: 143 \n",
      "\n"
     ]
    },
    {
     "name": "stderr",
     "output_type": "stream",
     "text": [
      "/Users/yashravipati/Desktop/aim_copy4/aim_copy3/Body_composition_C3_code/BodyComposition_C3-main/src/scripts/infer_selection.py:60: FutureWarning: The frame.append method is deprecated and will be removed from pandas in a future version. Use pandas.concat instead.\n",
      "  df_prediction = df_prediction.append(df_inter)\n"
     ]
    },
    {
     "name": "stdout",
     "output_type": "stream",
     "text": [
      "10/10 [==============================] - 1s 56ms/step\n",
      "17  th image, path:  ../data/test/input/mdacc_HNSCC-01-0591_CT-SIM-11-13-2011-_raw_raw_raw_xx.nrrd \n",
      " C3_Predict_slice: 181 \n",
      "\n"
     ]
    },
    {
     "name": "stderr",
     "output_type": "stream",
     "text": [
      "/Users/yashravipati/Desktop/aim_copy4/aim_copy3/Body_composition_C3_code/BodyComposition_C3-main/src/scripts/infer_selection.py:60: FutureWarning: The frame.append method is deprecated and will be removed from pandas in a future version. Use pandas.concat instead.\n",
      "  df_prediction = df_prediction.append(df_inter)\n"
     ]
    },
    {
     "name": "stdout",
     "output_type": "stream",
     "text": [
      "10/10 [==============================] - 1s 66ms/step\n",
      "18  th image, path:  ../data/test/input/mdacc_HNSCC-01-0592_CT-SIM-12-16-2012-_raw_raw_raw_xx.nrrd \n",
      " C3_Predict_slice: 158 \n",
      "\n"
     ]
    },
    {
     "name": "stderr",
     "output_type": "stream",
     "text": [
      "/Users/yashravipati/Desktop/aim_copy4/aim_copy3/Body_composition_C3_code/BodyComposition_C3-main/src/scripts/infer_selection.py:60: FutureWarning: The frame.append method is deprecated and will be removed from pandas in a future version. Use pandas.concat instead.\n",
      "  df_prediction = df_prediction.append(df_inter)\n"
     ]
    },
    {
     "name": "stdout",
     "output_type": "stream",
     "text": [
      "10/10 [==============================] - 0s 46ms/step\n",
      "19  th image, path:  ../data/test/input/mdacc_HNSCC-01-0593_CT-SIM-12-16-2012-_raw_raw_raw_xx.nrrd \n",
      " C3_Predict_slice: 166 \n",
      "\n"
     ]
    },
    {
     "name": "stderr",
     "output_type": "stream",
     "text": [
      "/Users/yashravipati/Desktop/aim_copy4/aim_copy3/Body_composition_C3_code/BodyComposition_C3-main/src/scripts/infer_selection.py:60: FutureWarning: The frame.append method is deprecated and will be removed from pandas in a future version. Use pandas.concat instead.\n",
      "  df_prediction = df_prediction.append(df_inter)\n"
     ]
    },
    {
     "name": "stdout",
     "output_type": "stream",
     "text": [
      "2/2 [==============================] - 0s 359ms/step\n",
      "20  th image, path:  ../data/test/input/mdacc_HNSCC-01-0594_CT-SIM-12-16-2012-_raw_raw_raw_xx.nrrd \n",
      " C3_Predict_slice: 32 \n",
      "\n"
     ]
    },
    {
     "name": "stderr",
     "output_type": "stream",
     "text": [
      "/Users/yashravipati/Desktop/aim_copy4/aim_copy3/Body_composition_C3_code/BodyComposition_C3-main/src/scripts/infer_selection.py:60: FutureWarning: The frame.append method is deprecated and will be removed from pandas in a future version. Use pandas.concat instead.\n",
      "  df_prediction = df_prediction.append(df_inter)\n"
     ]
    },
    {
     "name": "stdout",
     "output_type": "stream",
     "text": [
      "9/9 [==============================] - 0s 23ms/step\n",
      "21  th image, path:  ../data/test/input/mdacc_HNSCC-01-0595_CT-SIM-11-13-2011-_raw_raw_raw_xx.nrrd \n",
      " C3_Predict_slice: 145 \n",
      "\n"
     ]
    },
    {
     "name": "stderr",
     "output_type": "stream",
     "text": [
      "/Users/yashravipati/Desktop/aim_copy4/aim_copy3/Body_composition_C3_code/BodyComposition_C3-main/src/scripts/infer_selection.py:60: FutureWarning: The frame.append method is deprecated and will be removed from pandas in a future version. Use pandas.concat instead.\n",
      "  df_prediction = df_prediction.append(df_inter)\n"
     ]
    },
    {
     "name": "stdout",
     "output_type": "stream",
     "text": [
      "8/8 [==============================] - 0s 27ms/step\n",
      "22  th image, path:  ../data/test/input/mdacc_HNSCC-01-0596_CT-SIM-12-16-2012-_raw_raw_raw_xx.nrrd \n",
      " C3_Predict_slice: 128 \n",
      "\n"
     ]
    },
    {
     "name": "stderr",
     "output_type": "stream",
     "text": [
      "/Users/yashravipati/Desktop/aim_copy4/aim_copy3/Body_composition_C3_code/BodyComposition_C3-main/src/scripts/infer_selection.py:60: FutureWarning: The frame.append method is deprecated and will be removed from pandas in a future version. Use pandas.concat instead.\n",
      "  df_prediction = df_prediction.append(df_inter)\n"
     ]
    },
    {
     "name": "stdout",
     "output_type": "stream",
     "text": [
      "9/9 [==============================] - 0s 54ms/step\n",
      "23  th image, path:  ../data/test/input/mdacc_HNSCC-01-0597_CT-SIM-12-16-2012-_raw_raw_raw_xx.nrrd \n",
      " C3_Predict_slice: 143 \n",
      "\n"
     ]
    },
    {
     "name": "stderr",
     "output_type": "stream",
     "text": [
      "/Users/yashravipati/Desktop/aim_copy4/aim_copy3/Body_composition_C3_code/BodyComposition_C3-main/src/scripts/infer_selection.py:60: FutureWarning: The frame.append method is deprecated and will be removed from pandas in a future version. Use pandas.concat instead.\n",
      "  df_prediction = df_prediction.append(df_inter)\n"
     ]
    },
    {
     "name": "stdout",
     "output_type": "stream",
     "text": [
      "10/10 [==============================] - 0s 30ms/step\n",
      "24  th image, path:  ../data/test/input/mdacc_HNSCC-01-0598_CT-SIM-12-16-2012-_raw_raw_raw_xx.nrrd \n",
      " C3_Predict_slice: 135 \n",
      "\n"
     ]
    },
    {
     "name": "stderr",
     "output_type": "stream",
     "text": [
      "/Users/yashravipati/Desktop/aim_copy4/aim_copy3/Body_composition_C3_code/BodyComposition_C3-main/src/scripts/infer_selection.py:60: FutureWarning: The frame.append method is deprecated and will be removed from pandas in a future version. Use pandas.concat instead.\n",
      "  df_prediction = df_prediction.append(df_inter)\n"
     ]
    },
    {
     "name": "stdout",
     "output_type": "stream",
     "text": [
      "8/8 [==============================] - 1s 79ms/step\n",
      "25  th image, path:  ../data/test/input/mdacc_HNSCC-01-0599_CT-SIM-12-16-2012-_raw_raw_raw_xx.nrrd \n",
      " C3_Predict_slice: 121 \n",
      "\n"
     ]
    },
    {
     "name": "stderr",
     "output_type": "stream",
     "text": [
      "/Users/yashravipati/Desktop/aim_copy4/aim_copy3/Body_composition_C3_code/BodyComposition_C3-main/src/scripts/infer_selection.py:60: FutureWarning: The frame.append method is deprecated and will be removed from pandas in a future version. Use pandas.concat instead.\n",
      "  df_prediction = df_prediction.append(df_inter)\n"
     ]
    },
    {
     "name": "stdout",
     "output_type": "stream",
     "text": [
      "2/2 [==============================] - 0s 324ms/step\n",
      "26  th image, path:  ../data/test/input/mdacc_HNSCC-01-0600_CT-SIM-12-16-2012-_raw_raw_raw_xx.nrrd \n",
      " C3_Predict_slice: 33 \n",
      "\n"
     ]
    },
    {
     "name": "stderr",
     "output_type": "stream",
     "text": [
      "/Users/yashravipati/Desktop/aim_copy4/aim_copy3/Body_composition_C3_code/BodyComposition_C3-main/src/scripts/infer_selection.py:60: FutureWarning: The frame.append method is deprecated and will be removed from pandas in a future version. Use pandas.concat instead.\n",
      "  df_prediction = df_prediction.append(df_inter)\n"
     ]
    },
    {
     "name": "stdout",
     "output_type": "stream",
     "text": [
      "8/8 [==============================] - 0s 30ms/step\n",
      "27  th image, path:  ../data/test/input/mdacc_HNSCC-01-0601_CT-SIM-12-16-2012-_raw_raw_raw_xx.nrrd \n",
      " C3_Predict_slice: 121 \n",
      "\n"
     ]
    },
    {
     "name": "stderr",
     "output_type": "stream",
     "text": [
      "/Users/yashravipati/Desktop/aim_copy4/aim_copy3/Body_composition_C3_code/BodyComposition_C3-main/src/scripts/infer_selection.py:60: FutureWarning: The frame.append method is deprecated and will be removed from pandas in a future version. Use pandas.concat instead.\n",
      "  df_prediction = df_prediction.append(df_inter)\n"
     ]
    },
    {
     "name": "stdout",
     "output_type": "stream",
     "text": [
      "9/9 [==============================] - 0s 55ms/step\n",
      "28  th image, path:  ../data/test/input/mdacc_HNSCC-01-0602_CT-SIM-12-16-2012-_raw_raw_raw_xx.nrrd \n",
      " C3_Predict_slice: 137 \n",
      "\n"
     ]
    },
    {
     "name": "stderr",
     "output_type": "stream",
     "text": [
      "/Users/yashravipati/Desktop/aim_copy4/aim_copy3/Body_composition_C3_code/BodyComposition_C3-main/src/scripts/infer_selection.py:60: FutureWarning: The frame.append method is deprecated and will be removed from pandas in a future version. Use pandas.concat instead.\n",
      "  df_prediction = df_prediction.append(df_inter)\n"
     ]
    },
    {
     "name": "stdout",
     "output_type": "stream",
     "text": [
      "8/8 [==============================] - 0s 29ms/step\n",
      "29  th image, path:  ../data/test/input/mdacc_HNSCC-01-0603_CT-SIM-12-16-2012-_raw_raw_raw_xx.nrrd \n",
      " C3_Predict_slice: 148 \n",
      "\n"
     ]
    },
    {
     "name": "stderr",
     "output_type": "stream",
     "text": [
      "/Users/yashravipati/Desktop/aim_copy4/aim_copy3/Body_composition_C3_code/BodyComposition_C3-main/src/scripts/infer_selection.py:60: FutureWarning: The frame.append method is deprecated and will be removed from pandas in a future version. Use pandas.concat instead.\n",
      "  df_prediction = df_prediction.append(df_inter)\n"
     ]
    },
    {
     "name": "stdout",
     "output_type": "stream",
     "text": [
      "8/8 [==============================] - 0s 28ms/step\n",
      "30  th image, path:  ../data/test/input/mdacc_HNSCC-01-0604_CT-SIM-12-16-2012-_raw_raw_raw_xx.nrrd \n",
      " C3_Predict_slice: 125 \n",
      "\n"
     ]
    },
    {
     "name": "stderr",
     "output_type": "stream",
     "text": [
      "/Users/yashravipati/Desktop/aim_copy4/aim_copy3/Body_composition_C3_code/BodyComposition_C3-main/src/scripts/infer_selection.py:60: FutureWarning: The frame.append method is deprecated and will be removed from pandas in a future version. Use pandas.concat instead.\n",
      "  df_prediction = df_prediction.append(df_inter)\n"
     ]
    },
    {
     "name": "stdout",
     "output_type": "stream",
     "text": [
      "9/9 [==============================] - 0s 29ms/step\n",
      "31  th image, path:  ../data/test/input/mdacc_HNSCC-01-0605_CT-SIM-12-16-2012-_raw_raw_raw_xx.nrrd \n",
      " C3_Predict_slice: 144 \n",
      "\n"
     ]
    },
    {
     "name": "stderr",
     "output_type": "stream",
     "text": [
      "/Users/yashravipati/Desktop/aim_copy4/aim_copy3/Body_composition_C3_code/BodyComposition_C3-main/src/scripts/infer_selection.py:60: FutureWarning: The frame.append method is deprecated and will be removed from pandas in a future version. Use pandas.concat instead.\n",
      "  df_prediction = df_prediction.append(df_inter)\n"
     ]
    },
    {
     "name": "stdout",
     "output_type": "stream",
     "text": [
      "4/4 [==============================] - 0s 68ms/step\n",
      "32  th image, path:  ../data/test/input/mdacc_HNSCC-01-0606_CT-SIM-12-16-2012-_raw_raw_raw_xx.nrrd \n",
      " C3_Predict_slice: 56 \n",
      "\n"
     ]
    },
    {
     "name": "stderr",
     "output_type": "stream",
     "text": [
      "/Users/yashravipati/Desktop/aim_copy4/aim_copy3/Body_composition_C3_code/BodyComposition_C3-main/src/scripts/infer_selection.py:60: FutureWarning: The frame.append method is deprecated and will be removed from pandas in a future version. Use pandas.concat instead.\n",
      "  df_prediction = df_prediction.append(df_inter)\n"
     ]
    },
    {
     "name": "stdout",
     "output_type": "stream",
     "text": [
      "9/9 [==============================] - 0s 25ms/step\n",
      "33  th image, path:  ../data/test/input/mdacc_HNSCC-01-0608_CT-SIM-12-16-2012-_raw_raw_raw_xx.nrrd \n",
      " C3_Predict_slice: 171 \n",
      "\n"
     ]
    },
    {
     "name": "stderr",
     "output_type": "stream",
     "text": [
      "/Users/yashravipati/Desktop/aim_copy4/aim_copy3/Body_composition_C3_code/BodyComposition_C3-main/src/scripts/infer_selection.py:60: FutureWarning: The frame.append method is deprecated and will be removed from pandas in a future version. Use pandas.concat instead.\n",
      "  df_prediction = df_prediction.append(df_inter)\n"
     ]
    },
    {
     "name": "stdout",
     "output_type": "stream",
     "text": [
      "9/9 [==============================] - 0s 33ms/step\n"
     ]
    },
    {
     "name": "stderr",
     "output_type": "stream",
     "text": [
      "/Users/yashravipati/Desktop/aim_copy4/aim_copy3/Body_composition_C3_code/BodyComposition_C3-main/src/scripts/infer_selection.py:60: FutureWarning: The frame.append method is deprecated and will be removed from pandas in a future version. Use pandas.concat instead.\n",
      "  df_prediction = df_prediction.append(df_inter)\n"
     ]
    },
    {
     "name": "stdout",
     "output_type": "stream",
     "text": [
      "34  th image, path:  ../data/test/input/mdacc_HNSCC-01-0609_CT-SIM-12-16-2012-_raw_raw_raw_xx.nrrd \n",
      " C3_Predict_slice: 154 \n",
      "\n",
      "9/9 [==============================] - 0s 35ms/step\n",
      "35  th image, path:  ../data/test/input/mdacc_HNSCC-01-0610_CT-SIM-12-16-2012-_raw_raw_raw_xx.nrrd \n",
      " C3_Predict_slice: 148 \n",
      "\n"
     ]
    },
    {
     "name": "stderr",
     "output_type": "stream",
     "text": [
      "/Users/yashravipati/Desktop/aim_copy4/aim_copy3/Body_composition_C3_code/BodyComposition_C3-main/src/scripts/infer_selection.py:60: FutureWarning: The frame.append method is deprecated and will be removed from pandas in a future version. Use pandas.concat instead.\n",
      "  df_prediction = df_prediction.append(df_inter)\n"
     ]
    },
    {
     "name": "stdout",
     "output_type": "stream",
     "text": [
      "8/8 [==============================] - 1s 73ms/step\n",
      "36  th image, path:  ../data/test/input/mdacc_HNSCC-01-0611_CT-SIM-12-16-2012-_raw_raw_raw_xx.nrrd \n",
      " C3_Predict_slice: 137 \n",
      "\n"
     ]
    },
    {
     "name": "stderr",
     "output_type": "stream",
     "text": [
      "/Users/yashravipati/Desktop/aim_copy4/aim_copy3/Body_composition_C3_code/BodyComposition_C3-main/src/scripts/infer_selection.py:60: FutureWarning: The frame.append method is deprecated and will be removed from pandas in a future version. Use pandas.concat instead.\n",
      "  df_prediction = df_prediction.append(df_inter)\n"
     ]
    },
    {
     "name": "stdout",
     "output_type": "stream",
     "text": [
      "10/10 [==============================] - 0s 35ms/step\n",
      "37  th image, path:  ../data/test/input/mdacc_HNSCC-01-0612_CT-SIM-12-16-2012-_raw_raw_raw_xx.nrrd \n",
      " C3_Predict_slice: 150 \n",
      "\n"
     ]
    },
    {
     "name": "stderr",
     "output_type": "stream",
     "text": [
      "/Users/yashravipati/Desktop/aim_copy4/aim_copy3/Body_composition_C3_code/BodyComposition_C3-main/src/scripts/infer_selection.py:60: FutureWarning: The frame.append method is deprecated and will be removed from pandas in a future version. Use pandas.concat instead.\n",
      "  df_prediction = df_prediction.append(df_inter)\n"
     ]
    },
    {
     "name": "stdout",
     "output_type": "stream",
     "text": [
      "4/4 [==============================] - 0s 116ms/step\n",
      "38  th image, path:  ../data/test/input/mdacc_HNSCC-01-0613_CT-SIM-12-16-2012-_raw_raw_raw_xx.nrrd \n",
      " C3_Predict_slice: 62 \n",
      "\n"
     ]
    },
    {
     "name": "stderr",
     "output_type": "stream",
     "text": [
      "/Users/yashravipati/Desktop/aim_copy4/aim_copy3/Body_composition_C3_code/BodyComposition_C3-main/src/scripts/infer_selection.py:60: FutureWarning: The frame.append method is deprecated and will be removed from pandas in a future version. Use pandas.concat instead.\n",
      "  df_prediction = df_prediction.append(df_inter)\n"
     ]
    },
    {
     "name": "stdout",
     "output_type": "stream",
     "text": [
      "9/9 [==============================] - 0s 24ms/step\n",
      "39  th image, path:  ../data/test/input/mdacc_HNSCC-01-0614_CT-SIM-12-16-2012-_raw_raw_raw_xx.nrrd \n",
      " C3_Predict_slice: 156 \n",
      "\n"
     ]
    },
    {
     "name": "stderr",
     "output_type": "stream",
     "text": [
      "/Users/yashravipati/Desktop/aim_copy4/aim_copy3/Body_composition_C3_code/BodyComposition_C3-main/src/scripts/infer_selection.py:60: FutureWarning: The frame.append method is deprecated and will be removed from pandas in a future version. Use pandas.concat instead.\n",
      "  df_prediction = df_prediction.append(df_inter)\n"
     ]
    },
    {
     "name": "stdout",
     "output_type": "stream",
     "text": [
      "9/9 [==============================] - 0s 58ms/step\n",
      "40  th image, path:  ../data/test/input/mdacc_HNSCC-01-0615_CT-SIM-12-16-2012-_raw_raw_raw_xx.nrrd \n",
      " C3_Predict_slice: 126 \n",
      "\n"
     ]
    },
    {
     "name": "stderr",
     "output_type": "stream",
     "text": [
      "/Users/yashravipati/Desktop/aim_copy4/aim_copy3/Body_composition_C3_code/BodyComposition_C3-main/src/scripts/infer_selection.py:60: FutureWarning: The frame.append method is deprecated and will be removed from pandas in a future version. Use pandas.concat instead.\n",
      "  df_prediction = df_prediction.append(df_inter)\n"
     ]
    },
    {
     "name": "stdout",
     "output_type": "stream",
     "text": [
      "8/8 [==============================] - 1s 75ms/step\n",
      "41  th image, path:  ../data/test/input/mdacc_HNSCC-01-0616_CT-SIM-12-16-2012-_raw_raw_raw_xx.nrrd \n",
      " C3_Predict_slice: 128 \n",
      "\n"
     ]
    },
    {
     "name": "stderr",
     "output_type": "stream",
     "text": [
      "/Users/yashravipati/Desktop/aim_copy4/aim_copy3/Body_composition_C3_code/BodyComposition_C3-main/src/scripts/infer_selection.py:60: FutureWarning: The frame.append method is deprecated and will be removed from pandas in a future version. Use pandas.concat instead.\n",
      "  df_prediction = df_prediction.append(df_inter)\n"
     ]
    },
    {
     "name": "stdout",
     "output_type": "stream",
     "text": [
      "10/10 [==============================] - 1s 77ms/step\n",
      "42  th image, path:  ../data/test/input/mdacc_HNSCC-01-0617_CT-SIM-12-16-2012-_raw_raw_raw_xx.nrrd \n",
      " C3_Predict_slice: 154 \n",
      "\n"
     ]
    },
    {
     "name": "stderr",
     "output_type": "stream",
     "text": [
      "/Users/yashravipati/Desktop/aim_copy4/aim_copy3/Body_composition_C3_code/BodyComposition_C3-main/src/scripts/infer_selection.py:60: FutureWarning: The frame.append method is deprecated and will be removed from pandas in a future version. Use pandas.concat instead.\n",
      "  df_prediction = df_prediction.append(df_inter)\n"
     ]
    },
    {
     "name": "stdout",
     "output_type": "stream",
     "text": [
      "9/9 [==============================] - 1s 77ms/step\n",
      "43  th image, path:  ../data/test/input/mdacc_HNSCC-01-0618_CT-SIM-12-16-2012-_raw_raw_raw_xx.nrrd \n",
      " C3_Predict_slice: 136 \n",
      "\n"
     ]
    },
    {
     "name": "stderr",
     "output_type": "stream",
     "text": [
      "/Users/yashravipati/Desktop/aim_copy4/aim_copy3/Body_composition_C3_code/BodyComposition_C3-main/src/scripts/infer_selection.py:60: FutureWarning: The frame.append method is deprecated and will be removed from pandas in a future version. Use pandas.concat instead.\n",
      "  df_prediction = df_prediction.append(df_inter)\n"
     ]
    },
    {
     "name": "stdout",
     "output_type": "stream",
     "text": [
      "3/3 [==============================] - 0s 135ms/step\n",
      "44  th image, path:  ../data/test/input/mdacc_HNSCC-01-0619_CT-SIM-12-16-2012-_raw_raw_raw_xx.nrrd \n",
      " C3_Predict_slice: 44 \n",
      "\n"
     ]
    },
    {
     "name": "stderr",
     "output_type": "stream",
     "text": [
      "/Users/yashravipati/Desktop/aim_copy4/aim_copy3/Body_composition_C3_code/BodyComposition_C3-main/src/scripts/infer_selection.py:60: FutureWarning: The frame.append method is deprecated and will be removed from pandas in a future version. Use pandas.concat instead.\n",
      "  df_prediction = df_prediction.append(df_inter)\n"
     ]
    },
    {
     "name": "stdout",
     "output_type": "stream",
     "text": [
      "9/9 [==============================] - 0s 24ms/step\n",
      "45  th image, path:  ../data/test/input/mdacc_HNSCC-01-0620_CT-SIM-12-16-2012-_raw_raw_raw_xx.nrrd \n",
      " C3_Predict_slice: 147 \n",
      "\n"
     ]
    },
    {
     "name": "stderr",
     "output_type": "stream",
     "text": [
      "/Users/yashravipati/Desktop/aim_copy4/aim_copy3/Body_composition_C3_code/BodyComposition_C3-main/src/scripts/infer_selection.py:60: FutureWarning: The frame.append method is deprecated and will be removed from pandas in a future version. Use pandas.concat instead.\n",
      "  df_prediction = df_prediction.append(df_inter)\n"
     ]
    },
    {
     "name": "stdout",
     "output_type": "stream",
     "text": [
      "10/10 [==============================] - 0s 32ms/step\n",
      "46  th image, path:  ../data/test/input/mdacc_HNSCC-01-0621_CT-SIM-12-16-2012-_raw_raw_raw_xx.nrrd \n",
      " C3_Predict_slice: 165 \n",
      "\n"
     ]
    },
    {
     "name": "stderr",
     "output_type": "stream",
     "text": [
      "/Users/yashravipati/Desktop/aim_copy4/aim_copy3/Body_composition_C3_code/BodyComposition_C3-main/src/scripts/infer_selection.py:60: FutureWarning: The frame.append method is deprecated and will be removed from pandas in a future version. Use pandas.concat instead.\n",
      "  df_prediction = df_prediction.append(df_inter)\n"
     ]
    },
    {
     "name": "stdout",
     "output_type": "stream",
     "text": [
      "11/11 [==============================] - 0s 28ms/step\n",
      "47  th image, path:  ../data/test/input/mdacc_HNSCC-01-0622_CT-SIM-12-16-2012-_raw_raw_raw_xx.nrrd \n",
      " C3_Predict_slice: 185 \n",
      "\n"
     ]
    },
    {
     "name": "stderr",
     "output_type": "stream",
     "text": [
      "/Users/yashravipati/Desktop/aim_copy4/aim_copy3/Body_composition_C3_code/BodyComposition_C3-main/src/scripts/infer_selection.py:60: FutureWarning: The frame.append method is deprecated and will be removed from pandas in a future version. Use pandas.concat instead.\n",
      "  df_prediction = df_prediction.append(df_inter)\n"
     ]
    },
    {
     "name": "stdout",
     "output_type": "stream",
     "text": [
      "9/9 [==============================] - 1s 75ms/step\n",
      "48  th image, path:  ../data/test/input/mdacc_HNSCC-01-0623_CT-SIM-12-16-2012-_raw_raw_raw_xx.nrrd \n",
      " C3_Predict_slice: 156 \n",
      "\n"
     ]
    },
    {
     "name": "stderr",
     "output_type": "stream",
     "text": [
      "/Users/yashravipati/Desktop/aim_copy4/aim_copy3/Body_composition_C3_code/BodyComposition_C3-main/src/scripts/infer_selection.py:60: FutureWarning: The frame.append method is deprecated and will be removed from pandas in a future version. Use pandas.concat instead.\n",
      "  df_prediction = df_prediction.append(df_inter)\n"
     ]
    },
    {
     "name": "stdout",
     "output_type": "stream",
     "text": [
      "4/4 [==============================] - 1s 169ms/step\n",
      "49  th image, path:  ../data/test/input/mdacc_HNSCC-01-0624_CT-SIM-12-16-2012-_raw_raw_raw_xx.nrrd \n",
      " C3_Predict_slice: 52 \n",
      "\n"
     ]
    },
    {
     "name": "stderr",
     "output_type": "stream",
     "text": [
      "/Users/yashravipati/Desktop/aim_copy4/aim_copy3/Body_composition_C3_code/BodyComposition_C3-main/src/scripts/infer_selection.py:60: FutureWarning: The frame.append method is deprecated and will be removed from pandas in a future version. Use pandas.concat instead.\n",
      "  df_prediction = df_prediction.append(df_inter)\n"
     ]
    },
    {
     "name": "stdout",
     "output_type": "stream",
     "text": [
      "10/10 [==============================] - 0s 27ms/step\n",
      "50  th image, path:  ../data/test/input/mdacc_HNSCC-01-0625_CT-SIM-12-16-2012-_raw_raw_raw_xx.nrrd \n",
      " C3_Predict_slice: 187 \n",
      "\n"
     ]
    },
    {
     "name": "stderr",
     "output_type": "stream",
     "text": [
      "/Users/yashravipati/Desktop/aim_copy4/aim_copy3/Body_composition_C3_code/BodyComposition_C3-main/src/scripts/infer_selection.py:60: FutureWarning: The frame.append method is deprecated and will be removed from pandas in a future version. Use pandas.concat instead.\n",
      "  df_prediction = df_prediction.append(df_inter)\n"
     ]
    },
    {
     "name": "stdout",
     "output_type": "stream",
     "text": [
      "9/9 [==============================] - 0s 46ms/step\n",
      "51  th image, path:  ../data/test/input/mdacc_HNSCC-01-0626_CT-SIM-12-16-2012-_raw_raw_raw_xx.nrrd \n",
      " C3_Predict_slice: 144 \n",
      "\n"
     ]
    },
    {
     "name": "stderr",
     "output_type": "stream",
     "text": [
      "/Users/yashravipati/Desktop/aim_copy4/aim_copy3/Body_composition_C3_code/BodyComposition_C3-main/src/scripts/infer_selection.py:60: FutureWarning: The frame.append method is deprecated and will be removed from pandas in a future version. Use pandas.concat instead.\n",
      "  df_prediction = df_prediction.append(df_inter)\n"
     ]
    },
    {
     "name": "stdout",
     "output_type": "stream",
     "text": [
      "10/10 [==============================] - 0s 28ms/step\n",
      "52  th image, path:  ../data/test/input/mdacc_HNSCC-01-0627_CT-SIM-12-16-2012-_raw_raw_raw_xx.nrrd \n",
      " C3_Predict_slice: 154 \n",
      "\n"
     ]
    },
    {
     "name": "stderr",
     "output_type": "stream",
     "text": [
      "/Users/yashravipati/Desktop/aim_copy4/aim_copy3/Body_composition_C3_code/BodyComposition_C3-main/src/scripts/infer_selection.py:60: FutureWarning: The frame.append method is deprecated and will be removed from pandas in a future version. Use pandas.concat instead.\n",
      "  df_prediction = df_prediction.append(df_inter)\n"
     ]
    },
    {
     "name": "stdout",
     "output_type": "stream",
     "text": [
      "4/4 [==============================] - 0s 37ms/step\n",
      "53  th image, path:  ../data/test/input/mdacc_HNSCC-01-0628_CT-SIM-12-16-2012-_raw_raw_raw_xx.nrrd \n",
      " C3_Predict_slice: 60 \n",
      "\n"
     ]
    },
    {
     "name": "stderr",
     "output_type": "stream",
     "text": [
      "/Users/yashravipati/Desktop/aim_copy4/aim_copy3/Body_composition_C3_code/BodyComposition_C3-main/src/scripts/infer_selection.py:60: FutureWarning: The frame.append method is deprecated and will be removed from pandas in a future version. Use pandas.concat instead.\n",
      "  df_prediction = df_prediction.append(df_inter)\n"
     ]
    },
    {
     "name": "stdout",
     "output_type": "stream",
     "text": [
      "9/9 [==============================] - 1s 83ms/step\n",
      "54  th image, path:  ../data/test/input/mdacc_HNSCC-01-0629_CT-SIM-12-16-2012-_raw_raw_raw_xx.nrrd \n",
      " C3_Predict_slice: 152 \n",
      "\n"
     ]
    },
    {
     "name": "stderr",
     "output_type": "stream",
     "text": [
      "/Users/yashravipati/Desktop/aim_copy4/aim_copy3/Body_composition_C3_code/BodyComposition_C3-main/src/scripts/infer_selection.py:60: FutureWarning: The frame.append method is deprecated and will be removed from pandas in a future version. Use pandas.concat instead.\n",
      "  df_prediction = df_prediction.append(df_inter)\n"
     ]
    },
    {
     "name": "stdout",
     "output_type": "stream",
     "text": [
      "8/8 [==============================] - 0s 26ms/step\n",
      "55  th image, path:  ../data/test/input/mdacc_HNSCC-01-0630_CT-SIM-12-16-2012-_raw_raw_raw_xx.nrrd \n",
      " C3_Predict_slice: 126 \n",
      "\n",
      "C3 slice prediction is written into: ../data/test/output_csv/C3_Top_Slice_Prediction.csv \n",
      "\n"
     ]
    },
    {
     "name": "stderr",
     "output_type": "stream",
     "text": [
      "/Users/yashravipati/Desktop/aim_copy4/aim_copy3/Body_composition_C3_code/BodyComposition_C3-main/src/scripts/infer_selection.py:60: FutureWarning: The frame.append method is deprecated and will be removed from pandas in a future version. Use pandas.concat instead.\n",
      "  df_prediction = df_prediction.append(df_inter)\n"
     ]
    }
   ],
   "source": [
    "model=test('../data/test/input/','../model/test/C3_Top_Selection_Model_Weight.hdf5', '../data/test/output_csv/C3_Top_Slice_Prediction.csv')"
   ]
  },
  {
   "cell_type": "code",
   "execution_count": null,
   "id": "bf78b1f5",
   "metadata": {},
   "outputs": [],
   "source": []
  }
 ],
 "metadata": {
  "kernelspec": {
   "display_name": "Python 3 (ipykernel)",
   "language": "python",
   "name": "python3"
  },
  "language_info": {
   "codemirror_mode": {
    "name": "ipython",
    "version": 3
   },
   "file_extension": ".py",
   "mimetype": "text/x-python",
   "name": "python",
   "nbconvert_exporter": "python",
   "pygments_lexer": "ipython3",
   "version": "3.9.13"
  }
 },
 "nbformat": 4,
 "nbformat_minor": 5
}
