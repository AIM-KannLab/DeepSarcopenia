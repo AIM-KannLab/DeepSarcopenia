{
 "cells": [
  {
   "cell_type": "code",
   "execution_count": null,
   "id": "85f529f0",
   "metadata": {},
   "outputs": [],
   "source": [
    "import argparse\n",
    "import warnings\n",
    "import os \n",
    "from scripts.infer_selection import test\n",
    "\n",
    "os.environ[\"TF_CPP_MIN_LOG_LEVEL\"] = '3'\n",
    "warnings.filterwarnings(\"ignore\")   \n"
   ]
  },
  {
   "cell_type": "code",
   "execution_count": null,
   "id": "bde41779",
   "metadata": {},
   "outputs": [],
   "source": [
    "# Test the Slice Selction Model\n",
    "#Input Scans - nrrd files in ../data/test/input/ folder\n",
    "#Model - C3_Top_Selection_Model_Weight.hdf5 file /model/test\n",
    "#Output - C3_Top_Slice_Prediction.csv' stored in ../data/test/output_csv/ folder\n",
    "model=test('../data/test/input/','../model/test/C3_Top_Selection_Model_Weight.hdf5', '../data/test/output_csv/C3_Top_Slice_Prediction.csv')"
   ]
  },
  {
   "cell_type": "code",
   "execution_count": null,
   "id": "9ff5a63e",
   "metadata": {},
   "outputs": [],
   "source": [
    "# Test the Segmentation Model\n",
    "from scripts.infer_segmentation import test\n",
    "\n",
    "#Input Scans - nrrd files in ../data/test/input/ folder\n",
    "#Input csv - C3_Top_Slice_Prediction.csv' stored in ../data/test/output_csv/ folder\n",
    "#Model - C3_Top_Segmentation_Model_Weight.hdf5 file /model/test\n",
    "#Output - auto segementations stored in ../data/test/output_segmentation/ folder\n",
    "\n",
    "\n",
    "model=test('../data/test/input','../model/test/C3_Top_Segmentation_Model_Weight.hdf5','../data/test/output_csv/C3_Top_Slice_Prediction.csv','../data/test/output_segmentation/')"
   ]
  },
  {
   "cell_type": "code",
   "execution_count": null,
   "id": "670f4cfd",
   "metadata": {},
   "outputs": [],
   "source": [
    "# calculate C3 muscle cross sectional area for each of the scans and store it in the output_csv folder\n",
    "import pandas as pd\n",
    "import os\n",
    "from scripts.image_processing.image_window import get_image_path_by_id,apply_window\n",
    "from scripts.image_processing.slice_array_from_nifty import get_C3_seg_array_by_id\n",
    "import SimpleITK as sitk\n",
    "import numpy as np\n",
    "from pprint import pprint\n",
    "\n",
    "csv_path = '../data/test/output_csv/C3_Top_Slice_Prediction.csv'\n",
    "df_infer = pd.read_csv(csv_path, index_col = 0)\n",
    "\n",
    "# for writing metrics into a CSV\n",
    "df_init = pd.DataFrame()\n",
    "\n",
    "\n",
    "img_dir  = '../data/test/input/'\n",
    "auto_seg_dir ='../data/test/output_segmentation/'\n",
    "csv_write_path = '../data/test/output_csv/C3_body_comp_area_density.csv'\n",
    "\n",
    "for idx in range(df_infer.shape[0]):\n",
    "    patient_id =df_infer.iloc[idx,1]\n",
    "    c3_slice_auto = df_infer.iloc[idx,2]\n",
    "    image_path =  get_image_path_by_id(patient_id, img_dir)\n",
    "    auto_seg_path = get_image_path_by_id(patient_id, auto_seg_dir)\n",
    "    \n",
    "    if os.path.exists(image_path) and os.path.exists(auto_seg_path):\n",
    "\n",
    "        muscle_auto_area,sfat_auto_area,vfat_auto_area = \\\n",
    "                            get_c3_slice_area(patient_id,c3_slice_auto,auto_seg_dir)  \n",
    "\n",
    "        muscle_auto_density,sfat_auto_density,vfat_auto_density = \\\n",
    "                            get_c3_slice_density(patient_id,c3_slice_auto,auto_seg_dir,img_dir)\n",
    "\n",
    "        round_num = 2\n",
    "        \n",
    "        #Data Frame rows for writing into a CSV File\n",
    "        df_inter1 = pd.DataFrame({'patient_id':patient_id,\n",
    "                                    'muscle_auto_segmentation_area':round(muscle_auto_area, round_num),\n",
    "                                    'muscle_auto_sedensity':round(muscle_auto_density, round_num)\n",
    "                                        },index=[0])\n",
    "\n",
    "        df_init = df_init.append(df_inter1)\n",
    "        df_init.to_csv(csv_write_path)\n",
    "        print(idx,'th', patient_id, 'writen to', csv_write_path)\n",
    "\n",
    "        print()\n"
   ]
  }
 ],
 "metadata": {
  "kernelspec": {
   "display_name": "Python 3 (ipykernel)",
   "language": "python",
   "name": "python3"
  },
  "language_info": {
   "codemirror_mode": {
    "name": "ipython",
    "version": 3
   },
   "file_extension": ".py",
   "mimetype": "text/x-python",
   "name": "python",
   "nbconvert_exporter": "python",
   "pygments_lexer": "ipython3",
   "version": "3.9.13"
  }
 },
 "nbformat": 4,
 "nbformat_minor": 5
}
