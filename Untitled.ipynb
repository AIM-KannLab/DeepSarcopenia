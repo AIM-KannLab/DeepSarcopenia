{
 "cells": [
  {
   "cell_type": "code",
   "execution_count": 1,
   "id": "907ad7c7",
   "metadata": {},
   "outputs": [
    {
     "name": "stderr",
     "output_type": "stream",
     "text": [
      "usage: ipykernel_launcher.py [-h] [--proj_dir PROJ_DIR] [--dataset DATASET]\n",
      "                             [--img_dir IMG_DIR] [--slice_model SLICE_MODEL]\n",
      "                             [--seg_model SEG_MODEL] [--meta_file META_FILE]\n",
      "                             [--train] [--test] [--load_data] [--load_model]\n",
      "ipykernel_launcher.py: error: unrecognized arguments: -f /Users/yashravipati/Library/Jupyter/runtime/kernel-e510140e-0291-486c-8535-3e913b051384.json\n"
     ]
    },
    {
     "ename": "SystemExit",
     "evalue": "2",
     "output_type": "error",
     "traceback": [
      "An exception has occurred, use %tb to see the full traceback.\n",
      "\u001b[0;31mSystemExit\u001b[0m\u001b[0;31m:\u001b[0m 2\n"
     ]
    }
   ],
   "source": [
    "from main import main\n",
    "main()"
   ]
  },
  {
   "cell_type": "code",
   "execution_count": null,
   "id": "a1033e1e",
   "metadata": {},
   "outputs": [],
   "source": []
  }
 ],
 "metadata": {
  "kernelspec": {
   "display_name": "Python 3 (ipykernel)",
   "language": "python",
   "name": "python3"
  },
  "language_info": {
   "codemirror_mode": {
    "name": "ipython",
    "version": 3
   },
   "file_extension": ".py",
   "mimetype": "text/x-python",
   "name": "python",
   "nbconvert_exporter": "python",
   "pygments_lexer": "ipython3",
   "version": "3.9.13"
  }
 },
 "nbformat": 4,
 "nbformat_minor": 5
}
